{
  "nbformat": 4,
  "nbformat_minor": 0,
  "metadata": {
    "colab": {
      "provenance": [],
      "include_colab_link": true
    },
    "kernelspec": {
      "name": "python3",
      "display_name": "Python 3"
    },
    "language_info": {
      "name": "python"
    }
  },
  "cells": [
    {
      "cell_type": "markdown",
      "metadata": {
        "id": "view-in-github",
        "colab_type": "text"
      },
      "source": [
        "<a href=\"https://colab.research.google.com/github/FarzanaAdiba/ML_Assignment4/blob/main/Assignment4_Q1.ipynb\" target=\"_parent\"><img src=\"https://colab.research.google.com/assets/colab-badge.svg\" alt=\"Open In Colab\"/></a>"
      ]
    },
    {
      "cell_type": "code",
      "execution_count": null,
      "metadata": {
        "id": "IVqpwVrwM8x4"
      },
      "outputs": [],
      "source": [
        "import numpy as np\n",
        "import pandas as pd"
      ]
    },
    {
      "cell_type": "code",
      "source": [
        "from google.colab import drive\n",
        "drive.mount('/content/drive')"
      ],
      "metadata": {
        "colab": {
          "base_uri": "https://localhost:8080/"
        },
        "id": "VU5SlQGXP04u",
        "outputId": "70e159fc-2eb4-4e83-f97d-5aef47853729"
      },
      "execution_count": null,
      "outputs": [
        {
          "output_type": "stream",
          "name": "stdout",
          "text": [
            "Mounted at /content/drive\n"
          ]
        }
      ]
    },
    {
      "cell_type": "code",
      "source": [
        "df = pd.ExcelFile(\"/content/drive/My Drive/Asssignment4_Data.xlsx\")\n",
        "train= pd.read_excel(df, 'Train', index_col = 'House ID')\n",
        "test= pd.read_excel(df, 'Test', index_col = 'House ID')"
      ],
      "metadata": {
        "id": "0n7bBf1TNZN1"
      },
      "execution_count": null,
      "outputs": []
    },
    {
      "cell_type": "code",
      "source": [
        "print(train)"
      ],
      "metadata": {
        "colab": {
          "base_uri": "https://localhost:8080/"
        },
        "id": "GrdNXcrCQAPV",
        "outputId": "eb2dd797-1bc8-4020-d482-86c8c58f6216"
      },
      "execution_count": null,
      "outputs": [
        {
          "output_type": "stream",
          "name": "stdout",
          "text": [
            "          Local Price  Bathrooms  Land Area  Living area  # Garages  # Rooms  \\\n",
            "House ID                                                                       \n",
            "1              4.9176        1.0     3.4720        0.998        1.0        7   \n",
            "2              5.0208        1.0     3.5310        1.500        2.0        7   \n",
            "3              4.5429        1.0     2.2750        1.175        1.0        6   \n",
            "4              4.5573        1.0     4.0500        1.232        1.0        6   \n",
            "5              5.0597        1.0     4.4550        1.121        1.0        6   \n",
            "6              3.8910        1.0     4.4550        0.988        1.0        6   \n",
            "7              5.8980        1.0     5.8500        1.240        1.0        7   \n",
            "8              5.6039        1.0     9.5200        1.501        0.0        6   \n",
            "9             16.4202        2.5     9.8000        3.420        2.0       10   \n",
            "10            14.4598        2.5    12.8000        3.000        2.0        9   \n",
            "11             5.8282        1.0     6.4350        1.225        2.0        6   \n",
            "12             5.3003        1.0     4.9883        1.552        1.0        6   \n",
            "13             6.2712        1.0     5.5200        0.975        1.0        5   \n",
            "14             5.9592        1.0     6.6660        1.121        2.0        6   \n",
            "15             5.0500        1.0     5.0000        1.020        0.0        5   \n",
            "16             5.6039        1.0     9.5200        1.501        0.0        6   \n",
            "17             8.2464        1.5     5.1500        1.664        2.0        8   \n",
            "18             6.6969        1.5     6.9020        1.488        1.5        7   \n",
            "19             7.7841        1.5     7.1020        1.376        1.0        6   \n",
            "20             9.0384        1.0     7.8000        1.500        1.5        7   \n",
            "\n",
            "          # Bedrooms  Age of home Construction type  \n",
            "House ID                                             \n",
            "1                  4           42         Apartment  \n",
            "2                  4           62             House  \n",
            "3                  3           40             Condo  \n",
            "4                  3           54         Apartment  \n",
            "5                  3           42         Apartment  \n",
            "6                  3           56             Condo  \n",
            "7                  3           51             Condo  \n",
            "8                  3           32             House  \n",
            "9                  5           42             Condo  \n",
            "10                 5           14         Apartment  \n",
            "11                 3           32             House  \n",
            "12                 3           30             House  \n",
            "13                 2           30             House  \n",
            "14                 3           32             Condo  \n",
            "15                 2           46         Apartment  \n",
            "16                 3           32             House  \n",
            "17                 4           50         Apartment  \n",
            "18                 3           22             House  \n",
            "19                 3           17             Condo  \n",
            "20                 3           23         Apartment  \n"
          ]
        }
      ]
    },
    {
      "cell_type": "code",
      "source": [
        "print(test)"
      ],
      "metadata": {
        "colab": {
          "base_uri": "https://localhost:8080/"
        },
        "id": "uNZoHfKxQW2f",
        "outputId": "3ab408c2-d19b-48ce-af46-a674f3762650"
      },
      "execution_count": null,
      "outputs": [
        {
          "output_type": "stream",
          "name": "stdout",
          "text": [
            "          Local Price  Bathrooms  Land Area  Living area  # Garages  # Rooms  \\\n",
            "House ID                                                                       \n",
            "24             6.0931        1.5     6.7265        1.652        1.0        6   \n",
            "25             8.3607        1.5     9.1500        1.777        2.0        8   \n",
            "26             8.1400        1.0     8.0000        1.504        2.0        7   \n",
            "27             9.1416        1.5     7.3262        1.831        1.5        8   \n",
            "28            12.0000        1.5     5.0000        1.200        2.0        6   \n",
            "\n",
            "          # Bedrooms  Age of home Construction type  \n",
            "House ID                                             \n",
            "24                 3           44         Apartment  \n",
            "25                 4           48             House  \n",
            "26                 3            3             House  \n",
            "27                 4           31         Apartment  \n",
            "28                 3           30         Apartment  \n"
          ]
        }
      ]
    },
    {
      "cell_type": "markdown",
      "source": [
        "###Ques 1.1 "
      ],
      "metadata": {
        "id": "XO2YZRKiQ04_"
      }
    },
    {
      "cell_type": "code",
      "source": [
        "#The Mean and Standard Deviation(SD) is shown below---\n",
        "Local_Price_M      = [7.3327, 7.4159, 5.7607] \n",
        "Local_Price_SD     = [3.6160, 4.6112, 0.5701] \n",
        "Bathrooms_M        = [1.2857, 1.3333, 1.0714]\n",
        "Bathrooms_SD       = [0.5669, 0.6055, 0.1890]\n",
        "Land_Area_M        = [6.1039, 6.0250, 6.6309]\n",
        "Land_Area_SD       = [3.2585, 2.5448, 2.2490]\n",
        "Living_Area_M      = [1.5050, 1.5533, 1.3917]\n",
        "Living_Area_SD     = [0.7041, 0.9234, 0.2129]\n",
        "Garages_M          = [1.2143, 1.3333, 1.0714]\n",
        "Garages_SD         = [0.6986, 0.5164, 0.8381]\n",
        "Rooms_M            = [6.8571, 6.8333, 6.1429]\n",
        "Rooms_SD           = [1.3452, 1.6021, 0.6901]\n",
        "Bedrooms_M         = [3.4286, 3.3333, 3.0000]\n",
        "Bedrooms_SD        = [0.9759, 0.8165, 0.5774]\n",
        "Age_of_Home_M      = [38.7143, 39.6667, 34.2857]\n",
        "Age_of_Home_SD     = [14.6824, 13.9523, 12.7242]"
      ],
      "metadata": {
        "id": "olBlpjeeQjoR"
      },
      "execution_count": null,
      "outputs": []
    },
    {
      "cell_type": "code",
      "source": [
        "Construction_Type = ['Apartment', 'Condo', 'House'] \n",
        "list_of_tuples = list(zip(Construction_Type, Local_Price_M, Local_Price_SD, Bathrooms_M, Bathrooms_SD, Land_Area_M, Land_Area_SD, Living_Area_M, Living_Area_SD, Garages_M, Garages_SD, Rooms_M, Rooms_SD, Bedrooms_M, Bedrooms_SD, Age_of_Home_M, Age_of_Home_SD))   \n",
        "Mean_SD = pd.DataFrame(list_of_tuples, columns = ['Construction Type', 'Local Price Mean','Local Price SD','Bathrooms Mean','Bathrooms SD','Land Area Mean','Land Area SD','Living Area Mean','Living Area SD','Garages Mean','Garages SD','Rooms Mean','Rooms SD','Bedrooms Mean','Bedrooms SD','Age of Home Mean','Age of Home SD']) "
      ],
      "metadata": {
        "id": "Y4vFkzXgSVhK"
      },
      "execution_count": null,
      "outputs": []
    },
    {
      "cell_type": "code",
      "source": [
        "# The Mean SD is shown below\n",
        "print(Mean_SD)"
      ],
      "metadata": {
        "colab": {
          "base_uri": "https://localhost:8080/"
        },
        "id": "4lIzKoq1Stsq",
        "outputId": "3b92b665-1157-4f80-cdb9-7e161ca26414"
      },
      "execution_count": null,
      "outputs": [
        {
          "output_type": "stream",
          "name": "stdout",
          "text": [
            "  Construction Type  Local Price Mean  Local Price SD  Bathrooms Mean  \\\n",
            "0         Apartment            7.3327          3.6160          1.2857   \n",
            "1             Condo            7.4159          4.6112          1.3333   \n",
            "2             House            5.7607          0.5701          1.0714   \n",
            "\n",
            "   Bathrooms SD  Land Area Mean  Land Area SD  Living Area Mean  \\\n",
            "0        0.5669          6.1039        3.2585            1.5050   \n",
            "1        0.6055          6.0250        2.5448            1.5533   \n",
            "2        0.1890          6.6309        2.2490            1.3917   \n",
            "\n",
            "   Living Area SD  Garages Mean  Garages SD  Rooms Mean  Rooms SD  \\\n",
            "0          0.7041        1.2143      0.6986      6.8571    1.3452   \n",
            "1          0.9234        1.3333      0.5164      6.8333    1.6021   \n",
            "2          0.2129        1.0714      0.8381      6.1429    0.6901   \n",
            "\n",
            "   Bedrooms Mean  Bedrooms SD  Age of Home Mean  Age of Home SD  \n",
            "0         3.4286       0.9759           38.7143         14.6824  \n",
            "1         3.3333       0.8165           39.6667         13.9523  \n",
            "2         3.0000       0.5774           34.2857         12.7242  \n"
          ]
        }
      ]
    },
    {
      "cell_type": "markdown",
      "source": [
        "###Probability of House 24"
      ],
      "metadata": {
        "id": "Ut8pVh1BQDdI"
      }
    },
    {
      "cell_type": "code",
      "source": [
        "\n",
        "Local_Price_Probability   = [0.1040, 0.0830, 0.5904] \n",
        "Bathrooms_Probability     = [0.6552, 0.6344, 0.1613]\n",
        "Land_Area_Probability     = [0.1202, 0.1509, 0.1772]\n",
        "Living_Area_Probability   = [0.5544, 0.4296, 0.8874]\n",
        "Garages_Probability       = [0.5448, 0.6273, 0.4742]\n",
        "Rooms_Probability         = [0.2421, 0.2175, 0.5658]\n",
        "Bedrooms_Probability      = [0.3712, 0.4495, 0.6909]\n",
        "Age_of_Home_Probability   = [0.0255, 0.0272, 0.0234]"
      ],
      "metadata": {
        "id": "1A0D4UfNTTkt"
      },
      "execution_count": null,
      "outputs": []
    },
    {
      "cell_type": "code",
      "source": [
        "Construction_Type = ['Apartment', 'Condo', 'House']  \n",
        "list_of_tuples = list(zip(Construction_Type, Local_Price_Probability, Bathrooms_Probability, Land_Area_Probability, Living_Area_Probability, Garages_Probability, Rooms_Probability, Bedrooms_Probability, Age_of_Home_Probability))   \n",
        "Probability_24 = pd.DataFrame(list_of_tuples, columns = ['Construction Type', 'Local Price Probability','Bathrooms Probability','Land Area Probability','Living Area Probability','Garages Probability','Rooms Probability','Bedrooms Probability','Age_of_Home_Probability'])  \n",
        "print(Probability_24)"
      ],
      "metadata": {
        "colab": {
          "base_uri": "https://localhost:8080/"
        },
        "id": "o990ba-rfFI9",
        "outputId": "b5c2b383-d5c7-4c77-c4d9-8f86d3d89106"
      },
      "execution_count": null,
      "outputs": [
        {
          "output_type": "stream",
          "name": "stdout",
          "text": [
            "  Construction Type  Local Price Probability  Bathrooms Probability  \\\n",
            "0         Apartment                   0.1040                 0.6552   \n",
            "1             Condo                   0.0830                 0.6344   \n",
            "2             House                   0.5904                 0.1613   \n",
            "\n",
            "   Land Area Probability  Living Area Probability  Garages Probability  \\\n",
            "0                 0.1202                   0.5544               0.5448   \n",
            "1                 0.1509                   0.4296               0.6273   \n",
            "2                 0.1772                   0.8874               0.4742   \n",
            "\n",
            "   Rooms Probability  Bedrooms Probability  Age_of_Home_Probability  \n",
            "0             0.2421                0.3712                   0.0255  \n",
            "1             0.2175                0.4495                   0.0272  \n",
            "2             0.5658                0.6909                   0.0234  \n"
          ]
        }
      ]
    },
    {
      "cell_type": "markdown",
      "source": [
        "Probability of House 25"
      ],
      "metadata": {
        "id": "JE_yG8BcQNBe"
      }
    },
    {
      "cell_type": "code",
      "source": [
        "Local_Price_Probability   = [0.1060, 0.0847, 0.00002131] \n",
        "Bathrooms_Probability     = [0.6552, 0.6344, 0.1613]\n",
        "Land_Area_Probability     = [0.0791, 0.0738, 0.0947]\n",
        "Living_Area_Probability   = [0.5259, 0.4195, 0.3643]\n",
        "Garages_Probability       = [0.3034, 0.3357, 0.2577]\n",
        "Rooms_Probability         = [0.2067, 0.1910, 0.0155]\n",
        "Bedrooms_Probability      = [0.3444, 0.3501, 0.1542]\n",
        "Age_of_Home_Probability   = [0.0222, 0.0239, 0.0175]"
      ],
      "metadata": {
        "id": "znUqUqypfR2j"
      },
      "execution_count": null,
      "outputs": []
    },
    {
      "cell_type": "code",
      "source": [
        "list_of_tuples = list(zip(Construction_Type, Local_Price_Probability, Bathrooms_Probability, Land_Area_Probability, Living_Area_Probability, Garages_Probability, Rooms_Probability, Bedrooms_Probability, Age_of_Home_Probability))   \n",
        "Probability25 = pd.DataFrame(list_of_tuples, columns = ['Construction Type', 'Local Price Probability','Bathrooms Probability','Land Area Probability','Living Area Probability','Garages Probability','Rooms Probability','Bedrooms Probability','Age_of_Home_Probability'])  \n",
        "print(Probability25)"
      ],
      "metadata": {
        "colab": {
          "base_uri": "https://localhost:8080/"
        },
        "id": "MQigYt2NfspB",
        "outputId": "aaae8b06-61c2-43c1-fdab-39a571354dab"
      },
      "execution_count": null,
      "outputs": [
        {
          "output_type": "stream",
          "name": "stdout",
          "text": [
            "  Construction Type  Local Price Probability  Bathrooms Probability  \\\n",
            "0         Apartment                 0.106000                 0.6552   \n",
            "1             Condo                 0.084700                 0.6344   \n",
            "2             House                 0.000021                 0.1613   \n",
            "\n",
            "   Land Area Probability  Living Area Probability  Garages Probability  \\\n",
            "0                 0.0791                   0.5259               0.3034   \n",
            "1                 0.0738                   0.4195               0.3357   \n",
            "2                 0.0947                   0.3643               0.2577   \n",
            "\n",
            "   Rooms Probability  Bedrooms Probability  Age_of_Home_Probability  \n",
            "0             0.2067                0.3444                   0.0222  \n",
            "1             0.1910                0.3501                   0.0239  \n",
            "2             0.0155                0.1542                   0.0175  \n"
          ]
        }
      ]
    },
    {
      "cell_type": "markdown",
      "source": [
        "###Probability of House 26"
      ],
      "metadata": {
        "id": "eh3RZsTiQTsr"
      }
    },
    {
      "cell_type": "code",
      "source": [
        "Local_Price_Probability   = [0.1076, 0.0855, 0.00001155] \n",
        "Bathrooms_Probability     = [0.6198, 0.5662, 1.9654]\n",
        "Land_Area_Probability     = [0.1034, 0.1160, 0.1474]\n",
        "Living_Area_Probability   = [0.5666, 0.4314, 1.6305]\n",
        "Garages_Probability       = [0.3034, 0.3357, 0.2577]\n",
        "Rooms_Probability         = [0.2949, 0.2477, 0.2673]\n",
        "Bedrooms_Probability      = [0.3712, 0.4495, 0.6909]\n",
        "Age_of_Home_Probability   = [0.00141, 0.00009048, 0.001526]"
      ],
      "metadata": {
        "id": "R9TKnbmyf_zn"
      },
      "execution_count": null,
      "outputs": []
    },
    {
      "cell_type": "code",
      "source": [
        "list_of_tuples = list(zip(Construction_Type, Local_Price_Probability, Bathrooms_Probability, Land_Area_Probability, Living_Area_Probability, Garages_Probability, Rooms_Probability, Bedrooms_Probability, Age_of_Home_Probability))   \n",
        "Probability26 = pd.DataFrame(list_of_tuples, columns = ['Construction Type', 'Local Price Probability','Bathrooms Probability','Land Area Probability','Living Area Probability','Garages Probability','Rooms Probability','Bedrooms Probability','Age_of_Home_Probability'])  \n",
        "print(Probability26)"
      ],
      "metadata": {
        "colab": {
          "base_uri": "https://localhost:8080/"
        },
        "id": "yNNNeYLqgMvl",
        "outputId": "d46f060b-e763-4fbc-c622-3eec62bf7e62"
      },
      "execution_count": null,
      "outputs": [
        {
          "output_type": "stream",
          "name": "stdout",
          "text": [
            "  Construction Type  Local Price Probability  Bathrooms Probability  \\\n",
            "0         Apartment                 0.107600                 0.6198   \n",
            "1             Condo                 0.085500                 0.5662   \n",
            "2             House                 0.000012                 1.9654   \n",
            "\n",
            "   Land Area Probability  Living Area Probability  Garages Probability  \\\n",
            "0                 0.1034                   0.5666               0.3034   \n",
            "1                 0.1160                   0.4314               0.3357   \n",
            "2                 0.1474                   1.6305               0.2577   \n",
            "\n",
            "   Rooms Probability  Bedrooms Probability  Age_of_Home_Probability  \n",
            "0             0.2949                0.3712                 0.001410  \n",
            "1             0.2477                0.4495                 0.000090  \n",
            "2             0.2673                0.6909                 0.001526  \n"
          ]
        }
      ]
    },
    {
      "cell_type": "markdown",
      "source": [
        "###Probability of House 27"
      ],
      "metadata": {
        "id": "mIvlx_nSQbbL"
      }
    },
    {
      "cell_type": "code",
      "source": [
        "Local_Price_Probability   = [0.0973, 0.0807, 0.00000001615] \n",
        "Bathrooms_Probability     = [0.6552, 0.6344, 0.1613]\n",
        "Land_Area_Probability     = [0.1141, 0.1376, 0.1691]\n",
        "Living_Area_Probability   = [0.5090, 0.4129, 0.2229]\n",
        "Garages_Probability       = [0.5252, 0.7333, 0.4177]\n",
        "Rooms_Probability         = [0.2067, 0.1910, 0.0155]\n",
        "Bedrooms_Probability      = [0.3444, 0.3501, 0.1542]\n",
        "Age_of_Home_Probability   = [0.0237, 0.0236, 0.0303]"
      ],
      "metadata": {
        "id": "X2UAr9MpgRcu"
      },
      "execution_count": null,
      "outputs": []
    },
    {
      "cell_type": "code",
      "source": [
        "list_of_tuples = list(zip(Construction_Type, Local_Price_Probability, Bathrooms_Probability, Land_Area_Probability, Living_Area_Probability, Garages_Probability, Rooms_Probability, Bedrooms_Probability, Age_of_Home_Probability))   \n",
        "Probability27 = pd.DataFrame(list_of_tuples, columns = ['Construction Type', 'Local Price Probability','Bathrooms Probability','Land Area Probability','Living Area Probability','Garages Probability','Rooms Probability','Bedrooms Probability','Age_of_Home_Probability'])  \n",
        "print(Probability27)"
      ],
      "metadata": {
        "colab": {
          "base_uri": "https://localhost:8080/"
        },
        "id": "WVbIelI7gVLx",
        "outputId": "1d6729fc-4ea1-424e-d0cd-c7bf7e72ac90"
      },
      "execution_count": null,
      "outputs": [
        {
          "output_type": "stream",
          "name": "stdout",
          "text": [
            "  Construction Type  Local Price Probability  Bathrooms Probability  \\\n",
            "0         Apartment             9.730000e-02                 0.6552   \n",
            "1             Condo             8.070000e-02                 0.6344   \n",
            "2             House             1.615000e-08                 0.1613   \n",
            "\n",
            "   Land Area Probability  Living Area Probability  Garages Probability  \\\n",
            "0                 0.1141                   0.5090               0.5252   \n",
            "1                 0.1376                   0.4129               0.7333   \n",
            "2                 0.1691                   0.2229               0.4177   \n",
            "\n",
            "   Rooms Probability  Bedrooms Probability  Age_of_Home_Probability  \n",
            "0             0.2067                0.3444                   0.0237  \n",
            "1             0.1910                0.3501                   0.0236  \n",
            "2             0.0155                0.1542                   0.0303  \n"
          ]
        }
      ]
    },
    {
      "cell_type": "markdown",
      "source": [
        "###Probability of House 28"
      ],
      "metadata": {
        "id": "PwZGSu6bQh3J"
      }
    },
    {
      "cell_type": "code",
      "source": [
        "Local_Price_Probability   = [0.0480, 0.0528, 0.000000000000000000000000006854] \n",
        "Bathrooms_Probability     = [0.6552, 0.6344, 0.1613]\n",
        "Land_Area_Probability     = [0.1156, 0.1446, 0.1364]\n",
        "Living_Area_Probability   = [0.5159, 0.4015, 1.2493]\n",
        "Garages_Probability       = [0.3034, 0.3357, 0.2577]\n",
        "Rooms_Probability         = [0.2421, 0.2175, 0.5658]\n",
        "Bedrooms_Probability      = [0.3712, 0.4495, 0.6909]\n",
        "Age_of_Home_Probability   = [0.0228, 0.0225, 0.0296]"
      ],
      "metadata": {
        "id": "Qyx6KqjcgiVT"
      },
      "execution_count": null,
      "outputs": []
    },
    {
      "cell_type": "code",
      "source": [
        "list_of_tuples = list(zip(Construction_Type, Local_Price_Probability, Bathrooms_Probability, Land_Area_Probability, Living_Area_Probability, Garages_Probability, Rooms_Probability, Bedrooms_Probability, Age_of_Home_Probability))   \n",
        "Probability28 = pd.DataFrame(list_of_tuples, columns = ['Construction Type', 'Local Price Probability','Bathrooms Probability','Land Area Probability','Living Area Probability','Garages Probability','Rooms Probability','Bedrooms Probability','Age_of_Home_Probability'])  \n",
        "print(Probability28)"
      ],
      "metadata": {
        "colab": {
          "base_uri": "https://localhost:8080/"
        },
        "id": "4jbyaDMFgmV_",
        "outputId": "cb8fc486-1e2e-41e5-9a01-74ac88a3b69c"
      },
      "execution_count": null,
      "outputs": [
        {
          "output_type": "stream",
          "name": "stdout",
          "text": [
            "  Construction Type  Local Price Probability  Bathrooms Probability  \\\n",
            "0         Apartment             4.800000e-02                 0.6552   \n",
            "1             Condo             5.280000e-02                 0.6344   \n",
            "2             House             6.854000e-27                 0.1613   \n",
            "\n",
            "   Land Area Probability  Living Area Probability  Garages Probability  \\\n",
            "0                 0.1156                   0.5159               0.3034   \n",
            "1                 0.1446                   0.4015               0.3357   \n",
            "2                 0.1364                   1.2493               0.2577   \n",
            "\n",
            "   Rooms Probability  Bedrooms Probability  Age_of_Home_Probability  \n",
            "0             0.2421                0.3712                   0.0228  \n",
            "1             0.2175                0.4495                   0.0225  \n",
            "2             0.5658                0.6909                   0.0296  \n"
          ]
        }
      ]
    },
    {
      "cell_type": "markdown",
      "source": [
        "###**PROBLEM 1.2**\n",
        "MAP rules for each house is showing are showing below\n"
      ],
      "metadata": {
        "id": "OXU_R9QngtSy"
      }
    },
    {
      "cell_type": "markdown",
      "source": [
        "MAP for House 24"
      ],
      "metadata": {
        "id": "gTycX6dNQ6vE"
      }
    },
    {
      "cell_type": "code",
      "source": [
        "Apt_Prob = (0.1040 * 0.6552 * 0.1202 * 0.5544 * 0.5448 * 0.2421 * 0.3712 * 0.0255) * (7/20)\n",
        "print(Apt_Prob)\n",
        "\n",
        "Condo_Prob = (0.083 * 0.6344 * 0.1509 * 0.4296 * 0.6273 * 0.2175 * 0.4495 * 0.0272) * (6/20)\n",
        "print(Condo_Prob)\n",
        "\n",
        "House_Prob = (0.5904 * 0.1613 * 0.1772 * 0.8874 * 0.4742 * 0.5658 * 0.6909 * 0.0234) * (7/20)\n",
        "print(House_Prob)\n",
        "\n",
        "print(\"House ID 24 is predicted as: \")\n",
        "map = max(Apt_Prob, Condo_Prob, House_Prob)\n",
        "if (map==Apt_Prob):\n",
        "  print(\"Apartment\")\n",
        "if (map==Condo_Prob):\n",
        "  print(\"Condo\")\n",
        "if (map==House_Prob):\n",
        "  print(\"House\")"
      ],
      "metadata": {
        "colab": {
          "base_uri": "https://localhost:8080/"
        },
        "id": "8qw6danNgwY7",
        "outputId": "b842f0ba-d304-4a07-f0c3-6383eca40b39"
      },
      "execution_count": null,
      "outputs": [
        {
          "output_type": "stream",
          "name": "stdout",
          "text": [
            "1.9841888188414975e-06\n",
            "1.7082411633024023e-06\n",
            "2.273460669294739e-05\n",
            "House ID 24 is predicted as: \n",
            "House\n"
          ]
        }
      ]
    },
    {
      "cell_type": "markdown",
      "source": [
        "MAP for House 25"
      ],
      "metadata": {
        "id": "D24RNVDJRC4v"
      }
    },
    {
      "cell_type": "code",
      "source": [
        "Apt_Prob = (0.1060 * 0.6552 * 0.0791 * 0.5259 * 0.3034 * 0.2067 * 0.3444 * 0.0222) * (7/20)\n",
        "print(Apt_Prob)\n",
        "\n",
        "Condo_Prob = (0.0847 * 0.6344 * 0.0738 * 0.4195 * 0.3357 * 0.1910 * 0.3501 * 0.0239) * (6/20)\n",
        "print(Condo_Prob)\n",
        "\n",
        "House_Prob = (0.00002131 * 0.1613 * 0.0947 * 0.3643 * 0.2577 * 0.0155 * 0.1542 * 0.0175) * (7/20)\n",
        "print(House_Prob)\n",
        "\n",
        "print(\"House ID 25 is predicted as: \")\n",
        "map = max(Apt_Prob, Condo_Prob, House_Prob)\n",
        "if (map==Apt_Prob):\n",
        "  print(\"Apartment\")\n",
        "if (map==Condo_Prob):\n",
        "  print(\"Condo\")\n",
        "if (map==House_Prob):\n",
        "  print(\"House\")"
      ],
      "metadata": {
        "colab": {
          "base_uri": "https://localhost:8080/"
        },
        "id": "F4ednhS-hXUg",
        "outputId": "78b06808-fadc-401f-f43b-a6b15761aa44"
      },
      "execution_count": null,
      "outputs": [
        {
          "output_type": "stream",
          "name": "stdout",
          "text": [
            "4.84841317817334e-07\n",
            "2.677508674735345e-07\n",
            "4.473665937135081e-13\n",
            "House ID 25 is predicted as: \n",
            "Apartment\n"
          ]
        }
      ]
    },
    {
      "cell_type": "markdown",
      "source": [
        "MAP for House 26"
      ],
      "metadata": {
        "id": "1DkD09AnRGX4"
      }
    },
    {
      "cell_type": "code",
      "source": [
        "Apt_Prob = (0.1076 * 0.6198 * 0.1034 * 0.5666 * 0.3034 * 0.2949 * 0.3712 * 0.001410) * (7/20)\n",
        "print(Apt_Prob)\n",
        "\n",
        "Condo_Prob = (0.0855 *\t0.5662 * 0.1160 * 0.4314 * 0.3357 * 0.2477 * 0.4495 * 0.00009048) * (6/20)\n",
        "print(Condo_Prob)\n",
        "\n",
        "House_Prob = (0.00001155 * 1.9654 * 0.1474 * 1.6305 * 0.2577 * 0.2673 * 0.6909 * 0.001526) * (7/20)\n",
        "print(House_Prob)\n",
        "\n",
        "print(\"House ID 26 is predicted as: \")\n",
        "map = max(Apt_Prob, Condo_Prob, House_Prob)\n",
        "if (map==Apt_Prob):\n",
        "  print(\"Apartment\")\n",
        "if (map==Condo_Prob):\n",
        "  print(\"Condo\")\n",
        "if (map==House_Prob):\n",
        "  print(\"House\")"
      ],
      "metadata": {
        "colab": {
          "base_uri": "https://localhost:8080/"
        },
        "id": "N-n1gdNIiIBT",
        "outputId": "793e95bf-e93e-4028-e2dd-dd9bedd55638"
      },
      "execution_count": null,
      "outputs": [
        {
          "output_type": "stream",
          "name": "stdout",
          "text": [
            "6.403927782832104e-08\n",
            "2.4578478803659445e-09\n",
            "1.386763398413728e-10\n",
            "House ID 26 is predicted as: \n",
            "Apartment\n"
          ]
        }
      ]
    },
    {
      "cell_type": "markdown",
      "source": [
        "MAP for House 27"
      ],
      "metadata": {
        "id": "BQlal6wuRK0v"
      }
    },
    {
      "cell_type": "code",
      "source": [
        "Apt_Prob = (0.0973 *\t0.6552 * 0.1141 * 0.5090 * 0.5252 * 0.2067 * 0.3444 * 0.0237) * (7/20)\n",
        "print(Apt_Prob)\n",
        "\n",
        "Condo_Prob = (0.0807 *\t0.6344 * 0.1376 * 0.4129 * 0.7333 * 0.1910 * 0.3501 * 0.0236) * (6/20)\n",
        "print(Condo_Prob)\n",
        "\n",
        "House_Prob = (1.615e-08 * 0.1613 * 0.1691 * 0.2229 * 0.4177 * 0.0155 * 0.1542 * 0.0303) * (7/20)\n",
        "print(House_Prob)\n",
        "\n",
        "print(\"House ID 27 is predicted as: \")\n",
        "map = max(Apt_Prob, Condo_Prob, House_Prob)\n",
        "if (map==Apt_Prob):\n",
        "  print(\"Apartment\")\n",
        "if (map==Condo_Prob):\n",
        "  print(\"Condo\")\n",
        "if (map==House_Prob):\n",
        "  print(\"House\")"
      ],
      "metadata": {
        "colab": {
          "base_uri": "https://localhost:8080/"
        },
        "id": "qPLJq7dqiP4c",
        "outputId": "f8fa69b5-61cf-49b6-fb38-699f9782fa77"
      },
      "execution_count": null,
      "outputs": [
        {
          "output_type": "stream",
          "name": "stdout",
          "text": [
            "1.1482458460353102e-06\n",
            "1.009811812169203e-06\n",
            "1.039565337168584e-15\n",
            "House ID 27 is predicted as: \n",
            "Apartment\n"
          ]
        }
      ]
    },
    {
      "cell_type": "markdown",
      "source": [
        "MAP for House 28"
      ],
      "metadata": {
        "id": "gT1Ji-xhROsB"
      }
    },
    {
      "cell_type": "code",
      "source": [
        "Apt_Prob = (0.0480 *\t0.6552 * 0.1156 * 0.5159 * 0.3034 * 0.2421 * 0.3712 * 0.0228) * (7/20)\n",
        "print(Apt_Prob)\n",
        "\n",
        "Condo_Prob = (0.0528 *\t0.6344 * 0.1446 * 0.4015 * 0.3357 * 0.2175 * 0.4495 * 0.0225) * (6/20)\n",
        "print(Condo_Prob)\n",
        "\n",
        "House_Prob = (6.854e-27 * 0.1613 * 0.1364 * 1.2493 * 0.2577 * 0.5658 * 0.6909 * 0.0296) * (7/20)\n",
        "print(House_Prob)\n",
        "\n",
        "print(\"House ID 28 is predicted as: \")\n",
        "map = max(Apt_Prob, Condo_Prob, House_Prob)\n",
        "if (map==Apt_Prob):\n",
        "  print(\"Apartment\")\n",
        "if (map==Condo_Prob):\n",
        "  print(\"Condo\")\n",
        "if (map==House_Prob):\n",
        "  print(\"House\")"
      ],
      "metadata": {
        "colab": {
          "base_uri": "https://localhost:8080/"
        },
        "id": "ebLVoAdniXSN",
        "outputId": "04528dfc-28fd-49ae-9741-2d261c39699e"
      },
      "execution_count": null,
      "outputs": [
        {
          "output_type": "stream",
          "name": "stdout",
          "text": [
            "4.080935332355422e-07\n",
            "4.308191612306969e-07\n",
            "1.9661284501693058e-31\n",
            "House ID 28 is predicted as: \n",
            "Condo\n"
          ]
        }
      ]
    },
    {
      "cell_type": "markdown",
      "source": [
        "###**Overall Prediction will be**\n",
        "\n",
        "For House 24 = House\n",
        "\n",
        "For House 25 = Apartment\n",
        "\n",
        "For House 26 = Apartment\n",
        "\n",
        "For House 27 = Apartment\n",
        "\n",
        "For House 28 = Condo"
      ],
      "metadata": {
        "id": "ST2Za1EeiozD"
      }
    }
  ]
}